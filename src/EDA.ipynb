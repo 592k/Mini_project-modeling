{
 "cells": [
  {
   "cell_type": "markdown",
   "metadata": {},
   "source": [
    "# EDA for IEEE-CIS Fraud Detection\n",
    "Detect fraud from customer transactions.\n",
    "\n",
    "https://www.kaggle.com/competitions/ieee-fraud-detection/data\n"
   ]
  },
  {
   "cell_type": "markdown",
   "metadata": {},
   "source": [
    "[Data Description (Details and Discussion)](https://www.kaggle.com/competitions/ieee-fraud-detection/discussion/101203)\n",
    "\n",
    "### **Transaction Table**\n",
    "- TransactionDT: timedelta from a given reference datetime (not an actual timestamp)\n",
    "- TransactionAMT: transaction payment amount in USD\n",
    "- ProductCD: product code, the product for each transaction\n",
    "- card1 - card6: payment card information, such as card type, card category, issue bank, country, etc.\n",
    "- addr: address\n",
    "- dist: distance\n",
    "- P_ and (R__) emaildomain: purchaser and recipient email domain\n",
    "- C1-C14: counting, such as how many addresses are found to be associated with the payment card, etc. The actual meaning is masked.\n",
    "- D1-D15: timedelta, such as days between previous transaction, etc.\n",
    "- M1-M9: match, such as names on card and address, etc.\n",
    "- Vxxx: Vesta engineered rich features, including ranking, counting, and other entity relations.\n",
    "\n",
    "### **Identity Table**  \n",
    "\n",
    "Variables in this table are identity information – network connection information (IP, ISP, Proxy, etc) and digital signature (UA/browser/os/version, etc) associated with transactions.\n",
    "They're collected by Vesta’s fraud protection system and digital security partners.\n",
    "(The field names are masked and pairwise dictionary will not be provided for privacy protection and contract agreement)\n"
   ]
  },
  {
   "cell_type": "code",
   "execution_count": 1,
   "metadata": {},
   "outputs": [],
   "source": [
    "import numpy as np\n",
    "import pandas as pd\n",
    "import matplotlib.pyplot as plt\n",
    "import seaborn as sns"
   ]
  },
  {
   "cell_type": "code",
   "execution_count": 15,
   "metadata": {},
   "outputs": [],
   "source": [
    "train_t= pd.read_csv('../data/train_transaction.csv')\n",
    "train_i = pd.read_csv('../data/train_identity.csv')\n",
    "\n",
    "test_t= pd.read_csv('../data/test_transaction.csv')\n",
    "test_i = pd.read_csv('../data/test_identity.csv')\n",
    "submission = pd.read_csv('../data/sample_submission.csv')\n",
    "\n",
    "train_m = pd.merge(train_t, train_i, how='left', on='TransactionID')"
   ]
  },
  {
   "cell_type": "markdown",
   "metadata": {},
   "source": [
    "### Transaction Table"
   ]
  },
  {
   "cell_type": "markdown",
   "metadata": {},
   "source": [
    "#### TransactionDT"
   ]
  },
  {
   "cell_type": "code",
   "execution_count": 14,
   "metadata": {},
   "outputs": [
    {
     "ename": "IndexError",
     "evalue": "too many indices for array: array is 1-dimensional, but 2 were indexed",
     "output_type": "error",
     "traceback": [
      "\u001b[0;31m---------------------------------------------------------------------------\u001b[0m",
      "\u001b[0;31mIndexError\u001b[0m                                Traceback (most recent call last)",
      "\u001b[1;32m/Users/krc/Documents/dev/Mini_project-modeling/src/EDA.ipynb Cell 7'\u001b[0m in \u001b[0;36m<cell line: 3>\u001b[0;34m()\u001b[0m\n\u001b[1;32m      <a href='vscode-notebook-cell:/Users/krc/Documents/dev/Mini_project-modeling/src/EDA.ipynb#ch0000002?line=0'>1</a>\u001b[0m fig, axes \u001b[39m=\u001b[39m plt\u001b[39m.\u001b[39msubplots(\u001b[39m2\u001b[39m,\u001b[39m1\u001b[39m, figsize\u001b[39m=\u001b[39m(\u001b[39m10\u001b[39m,\u001b[39m10\u001b[39m))\n\u001b[0;32m----> <a href='vscode-notebook-cell:/Users/krc/Documents/dev/Mini_project-modeling/src/EDA.ipynb#ch0000002?line=2'>3</a>\u001b[0m sns\u001b[39m.\u001b[39mhistplot(train_t[\u001b[39m'\u001b[39m\u001b[39mTransactionDT\u001b[39m\u001b[39m'\u001b[39m] \u001b[39m/\u001b[39m (\u001b[39m3600\u001b[39m\u001b[39m*\u001b[39m\u001b[39m24\u001b[39m), bins\u001b[39m=\u001b[39m\u001b[39m1800\u001b[39m, ax\u001b[39m=\u001b[39maxes[\u001b[39m1\u001b[39;49m,\u001b[39m1\u001b[39;49m])\n\u001b[1;32m      <a href='vscode-notebook-cell:/Users/krc/Documents/dev/Mini_project-modeling/src/EDA.ipynb#ch0000002?line=3'>4</a>\u001b[0m plt\u001b[39m.\u001b[39mxlabel(\u001b[39m'\u001b[39m\u001b[39mDays\u001b[39m\u001b[39m'\u001b[39m)\n\u001b[1;32m      <a href='vscode-notebook-cell:/Users/krc/Documents/dev/Mini_project-modeling/src/EDA.ipynb#ch0000002?line=4'>5</a>\u001b[0m plt\u001b[39m.\u001b[39mylabel(\u001b[39m'\u001b[39m\u001b[39mNumber of transactions\u001b[39m\u001b[39m'\u001b[39m)\n",
      "\u001b[0;31mIndexError\u001b[0m: too many indices for array: array is 1-dimensional, but 2 were indexed"
     ]
    },
    {
     "data": {
      "image/png": "[encoded data removed]",
      "text/plain": [
       "<Figure size 720x720 with 2 Axes>"
      ]
     },
     "metadata": {
      "needs_background": "light"
     },
     "output_type": "display_data"
    }
   ],
   "source": [
    "figm axes = plt.subplots(2, figsize=(10,10))\n",
    "\n",
    "for i in range()\n",
    "\n",
    "sns.histplot(train_t['TransactionDT'] / (3600*24), bins=1800, ax=axes[1,1])\n",
    "plt.xlabel('Days')\n",
    "plt.ylabel('Number of transactions')\n",
    "plt.ylim(0,1000)"
   ]
  },
  {
   "cell_type": "code",
   "execution_count": null,
   "metadata": {},
   "outputs": [],
   "source": []
  }
 ],
 "metadata": {
  "kernelspec": {
   "display_name": "Python 3.8.13 ('krc2')",
   "language": "python",
   "name": "python3"
  },
  "language_info": {
   "codemirror_mode": {
    "name": "ipython",
    "version": 3
   },
   "file_extension": ".py",
   "mimetype": "text/x-python",
   "name": "python",
   "nbconvert_exporter": "python",
   "pygments_lexer": "ipython3",
   "version": "3.8.13"
  },
  "orig_nbformat": 4,
  "vscode": {
   "interpreter": {
    "hash": "96585d1db33035dd990876662d9037d5fd5870af28f1fa400d97fadef4fdf92c"
   }
  }
 },
 "nbformat": 4,
 "nbformat_minor": 2
}
